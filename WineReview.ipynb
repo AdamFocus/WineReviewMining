{
 "cells": [
  {
   "cell_type": "markdown",
   "metadata": {},
   "source": [
    "# 频繁模式与关联规则挖掘\n",
    "项目地址：https://github.com/AdamFocus/WineReviewMining\n",
    "\n",
    "使用Wine Reviews数据集"
   ]
  },
  {
   "cell_type": "code",
   "execution_count": 1,
   "metadata": {},
   "outputs": [],
   "source": [
    "import numpy as np\n",
    "import pandas as pd"
   ]
  },
  {
   "cell_type": "code",
   "execution_count": 30,
   "metadata": {},
   "outputs": [],
   "source": [
    "data=pd.read_csv('winemag-data_first150k.csv', index_col=0)"
   ]
  },
  {
   "cell_type": "code",
   "execution_count": 12,
   "metadata": {},
   "outputs": [
    {
     "data": {
      "text/plain": [
       "(150930, 10)"
      ]
     },
     "execution_count": 12,
     "metadata": {},
     "output_type": "execute_result"
    }
   ],
   "source": [
    "data.shape"
   ]
  },
  {
   "cell_type": "markdown",
   "metadata": {},
   "source": [
    "## 1.处理Wine Review数据集\n",
    "由于description字段不是标称数据和数值数据，将其删除，并对剩余的字段去重并编号"
   ]
  },
  {
   "cell_type": "code",
   "execution_count": 31,
   "metadata": {},
   "outputs": [
    {
     "data": {
      "text/html": [
       "<div>\n",
       "<style scoped>\n",
       "    .dataframe tbody tr th:only-of-type {\n",
       "        vertical-align: middle;\n",
       "    }\n",
       "\n",
       "    .dataframe tbody tr th {\n",
       "        vertical-align: top;\n",
       "    }\n",
       "\n",
       "    .dataframe thead th {\n",
       "        text-align: right;\n",
       "    }\n",
       "</style>\n",
       "<table border=\"1\" class=\"dataframe\">\n",
       "  <thead>\n",
       "    <tr style=\"text-align: right;\">\n",
       "      <th></th>\n",
       "      <th>country</th>\n",
       "      <th>designation</th>\n",
       "      <th>points</th>\n",
       "      <th>price</th>\n",
       "      <th>province</th>\n",
       "      <th>region_1</th>\n",
       "      <th>region_2</th>\n",
       "      <th>variety</th>\n",
       "      <th>winery</th>\n",
       "    </tr>\n",
       "  </thead>\n",
       "  <tbody>\n",
       "    <tr>\n",
       "      <td>0</td>\n",
       "      <td>US</td>\n",
       "      <td>Martha's Vineyard</td>\n",
       "      <td>96</td>\n",
       "      <td>235.0</td>\n",
       "      <td>California</td>\n",
       "      <td>Napa Valley</td>\n",
       "      <td>Napa</td>\n",
       "      <td>Cabernet Sauvignon</td>\n",
       "      <td>Heitz</td>\n",
       "    </tr>\n",
       "    <tr>\n",
       "      <td>1</td>\n",
       "      <td>Spain</td>\n",
       "      <td>Carodorum Selección Especial Reserva</td>\n",
       "      <td>96</td>\n",
       "      <td>110.0</td>\n",
       "      <td>Northern Spain</td>\n",
       "      <td>Toro</td>\n",
       "      <td>NaN</td>\n",
       "      <td>Tinta de Toro</td>\n",
       "      <td>Bodega Carmen Rodríguez</td>\n",
       "    </tr>\n",
       "    <tr>\n",
       "      <td>2</td>\n",
       "      <td>US</td>\n",
       "      <td>Special Selected Late Harvest</td>\n",
       "      <td>96</td>\n",
       "      <td>90.0</td>\n",
       "      <td>California</td>\n",
       "      <td>Knights Valley</td>\n",
       "      <td>Sonoma</td>\n",
       "      <td>Sauvignon Blanc</td>\n",
       "      <td>Macauley</td>\n",
       "    </tr>\n",
       "    <tr>\n",
       "      <td>3</td>\n",
       "      <td>US</td>\n",
       "      <td>Reserve</td>\n",
       "      <td>96</td>\n",
       "      <td>65.0</td>\n",
       "      <td>Oregon</td>\n",
       "      <td>Willamette Valley</td>\n",
       "      <td>Willamette Valley</td>\n",
       "      <td>Pinot Noir</td>\n",
       "      <td>Ponzi</td>\n",
       "    </tr>\n",
       "    <tr>\n",
       "      <td>4</td>\n",
       "      <td>France</td>\n",
       "      <td>La Brûlade</td>\n",
       "      <td>95</td>\n",
       "      <td>66.0</td>\n",
       "      <td>Provence</td>\n",
       "      <td>Bandol</td>\n",
       "      <td>NaN</td>\n",
       "      <td>Provence red blend</td>\n",
       "      <td>Domaine de la Bégude</td>\n",
       "    </tr>\n",
       "    <tr>\n",
       "      <td>...</td>\n",
       "      <td>...</td>\n",
       "      <td>...</td>\n",
       "      <td>...</td>\n",
       "      <td>...</td>\n",
       "      <td>...</td>\n",
       "      <td>...</td>\n",
       "      <td>...</td>\n",
       "      <td>...</td>\n",
       "      <td>...</td>\n",
       "    </tr>\n",
       "    <tr>\n",
       "      <td>149635</td>\n",
       "      <td>US</td>\n",
       "      <td>Bungalow Red</td>\n",
       "      <td>84</td>\n",
       "      <td>15.0</td>\n",
       "      <td>California</td>\n",
       "      <td>Santa Barbara County</td>\n",
       "      <td>Central Coast</td>\n",
       "      <td>Syrah-Grenache</td>\n",
       "      <td>Casa Barranca</td>\n",
       "    </tr>\n",
       "    <tr>\n",
       "      <td>149636</td>\n",
       "      <td>Portugal</td>\n",
       "      <td>30-year old tawny</td>\n",
       "      <td>84</td>\n",
       "      <td>NaN</td>\n",
       "      <td>Port</td>\n",
       "      <td>NaN</td>\n",
       "      <td>NaN</td>\n",
       "      <td>Port</td>\n",
       "      <td>Casa Santa Eufemia</td>\n",
       "    </tr>\n",
       "    <tr>\n",
       "      <td>149637</td>\n",
       "      <td>US</td>\n",
       "      <td>NaN</td>\n",
       "      <td>84</td>\n",
       "      <td>6.0</td>\n",
       "      <td>California</td>\n",
       "      <td>California</td>\n",
       "      <td>California Other</td>\n",
       "      <td>Merlot</td>\n",
       "      <td>Delicato</td>\n",
       "    </tr>\n",
       "    <tr>\n",
       "      <td>149638</td>\n",
       "      <td>Argentina</td>\n",
       "      <td>NaN</td>\n",
       "      <td>84</td>\n",
       "      <td>9.0</td>\n",
       "      <td>Mendoza Province</td>\n",
       "      <td>Uco Valley</td>\n",
       "      <td>NaN</td>\n",
       "      <td>Sauvignon Blanc</td>\n",
       "      <td>Finca El Portillo</td>\n",
       "    </tr>\n",
       "    <tr>\n",
       "      <td>149639</td>\n",
       "      <td>Australia</td>\n",
       "      <td>NaN</td>\n",
       "      <td>84</td>\n",
       "      <td>8.0</td>\n",
       "      <td>Australia Other</td>\n",
       "      <td>South Eastern Australia</td>\n",
       "      <td>NaN</td>\n",
       "      <td>Chardonnay</td>\n",
       "      <td>Jacob's Creek</td>\n",
       "    </tr>\n",
       "  </tbody>\n",
       "</table>\n",
       "<p>94871 rows × 9 columns</p>\n",
       "</div>"
      ],
      "text/plain": [
       "          country                           designation  points  price  \\\n",
       "0              US                     Martha's Vineyard      96  235.0   \n",
       "1           Spain  Carodorum Selección Especial Reserva      96  110.0   \n",
       "2              US         Special Selected Late Harvest      96   90.0   \n",
       "3              US                               Reserve      96   65.0   \n",
       "4          France                            La Brûlade      95   66.0   \n",
       "...           ...                                   ...     ...    ...   \n",
       "149635         US                          Bungalow Red      84   15.0   \n",
       "149636   Portugal                     30-year old tawny      84    NaN   \n",
       "149637         US                                   NaN      84    6.0   \n",
       "149638  Argentina                                   NaN      84    9.0   \n",
       "149639  Australia                                   NaN      84    8.0   \n",
       "\n",
       "                province                 region_1           region_2  \\\n",
       "0             California              Napa Valley               Napa   \n",
       "1         Northern Spain                     Toro                NaN   \n",
       "2             California           Knights Valley             Sonoma   \n",
       "3                 Oregon        Willamette Valley  Willamette Valley   \n",
       "4               Provence                   Bandol                NaN   \n",
       "...                  ...                      ...                ...   \n",
       "149635        California     Santa Barbara County      Central Coast   \n",
       "149636              Port                      NaN                NaN   \n",
       "149637        California               California   California Other   \n",
       "149638  Mendoza Province               Uco Valley                NaN   \n",
       "149639   Australia Other  South Eastern Australia                NaN   \n",
       "\n",
       "                   variety                   winery  \n",
       "0       Cabernet Sauvignon                    Heitz  \n",
       "1            Tinta de Toro  Bodega Carmen Rodríguez  \n",
       "2          Sauvignon Blanc                 Macauley  \n",
       "3               Pinot Noir                    Ponzi  \n",
       "4       Provence red blend     Domaine de la Bégude  \n",
       "...                    ...                      ...  \n",
       "149635      Syrah-Grenache            Casa Barranca  \n",
       "149636                Port       Casa Santa Eufemia  \n",
       "149637              Merlot                 Delicato  \n",
       "149638     Sauvignon Blanc        Finca El Portillo  \n",
       "149639          Chardonnay            Jacob's Creek  \n",
       "\n",
       "[94871 rows x 9 columns]"
      ]
     },
     "execution_count": 31,
     "metadata": {},
     "output_type": "execute_result"
    }
   ],
   "source": [
    "data.drop(['description'],axis=1,inplace=True)\n",
    "data.drop_duplicates(inplace=True)\n",
    "data"
   ]
  },
  {
   "cell_type": "markdown",
   "metadata": {},
   "source": [
    "## 将数值属性points和price进行离散化处理\n",
    "### points"
   ]
  },
  {
   "cell_type": "code",
   "execution_count": 15,
   "metadata": {},
   "outputs": [
    {
     "data": {
      "text/plain": [
       "<matplotlib.axes._subplots.AxesSubplot at 0x19e9642ba88>"
      ]
     },
     "execution_count": 15,
     "metadata": {},
     "output_type": "execute_result"
    },
    {
     "data": {
      "image/png": "[encoded data removed]",
      "text/plain": [
       "<Figure size 432x288 with 1 Axes>"
      ]
     },
     "metadata": {
      "needs_background": "light"
     },
     "output_type": "display_data"
    }
   ],
   "source": [
    "data['points'].hist()"
   ]
  },
  {
   "cell_type": "markdown",
   "metadata": {},
   "source": [
    "由points图像可以看出，数据集中分布在80-100之间，可以将其分成四部分：\n",
    "- 80-84 D\n",
    "- 85-89 C\n",
    "- 90-94 B\n",
    "- 95-100 A"
   ]
  },
  {
   "cell_type": "code",
   "execution_count": 22,
   "metadata": {},
   "outputs": [],
   "source": [
    "def pointMap(x):\n",
    "    #将分数映射到ABCD\n",
    "    if x>=95:\n",
    "        return 'A'\n",
    "    elif x>=90:\n",
    "        return 'B'\n",
    "    elif x >= 85:\n",
    "        return 'C'\n",
    "    else:\n",
    "        return 'D'"
   ]
  },
  {
   "cell_type": "code",
   "execution_count": 32,
   "metadata": {},
   "outputs": [
    {
     "data": {
      "text/html": [
       "<div>\n",
       "<style scoped>\n",
       "    .dataframe tbody tr th:only-of-type {\n",
       "        vertical-align: middle;\n",
       "    }\n",
       "\n",
       "    .dataframe tbody tr th {\n",
       "        vertical-align: top;\n",
       "    }\n",
       "\n",
       "    .dataframe thead th {\n",
       "        text-align: right;\n",
       "    }\n",
       "</style>\n",
       "<table border=\"1\" class=\"dataframe\">\n",
       "  <thead>\n",
       "    <tr style=\"text-align: right;\">\n",
       "      <th></th>\n",
       "      <th>country</th>\n",
       "      <th>designation</th>\n",
       "      <th>points</th>\n",
       "      <th>price</th>\n",
       "      <th>province</th>\n",
       "      <th>region_1</th>\n",
       "      <th>region_2</th>\n",
       "      <th>variety</th>\n",
       "      <th>winery</th>\n",
       "    </tr>\n",
       "  </thead>\n",
       "  <tbody>\n",
       "    <tr>\n",
       "      <td>0</td>\n",
       "      <td>US</td>\n",
       "      <td>Martha's Vineyard</td>\n",
       "      <td>A</td>\n",
       "      <td>235.0</td>\n",
       "      <td>California</td>\n",
       "      <td>Napa Valley</td>\n",
       "      <td>Napa</td>\n",
       "      <td>Cabernet Sauvignon</td>\n",
       "      <td>Heitz</td>\n",
       "    </tr>\n",
       "    <tr>\n",
       "      <td>1</td>\n",
       "      <td>Spain</td>\n",
       "      <td>Carodorum Selección Especial Reserva</td>\n",
       "      <td>A</td>\n",
       "      <td>110.0</td>\n",
       "      <td>Northern Spain</td>\n",
       "      <td>Toro</td>\n",
       "      <td>NaN</td>\n",
       "      <td>Tinta de Toro</td>\n",
       "      <td>Bodega Carmen Rodríguez</td>\n",
       "    </tr>\n",
       "    <tr>\n",
       "      <td>2</td>\n",
       "      <td>US</td>\n",
       "      <td>Special Selected Late Harvest</td>\n",
       "      <td>A</td>\n",
       "      <td>90.0</td>\n",
       "      <td>California</td>\n",
       "      <td>Knights Valley</td>\n",
       "      <td>Sonoma</td>\n",
       "      <td>Sauvignon Blanc</td>\n",
       "      <td>Macauley</td>\n",
       "    </tr>\n",
       "    <tr>\n",
       "      <td>3</td>\n",
       "      <td>US</td>\n",
       "      <td>Reserve</td>\n",
       "      <td>A</td>\n",
       "      <td>65.0</td>\n",
       "      <td>Oregon</td>\n",
       "      <td>Willamette Valley</td>\n",
       "      <td>Willamette Valley</td>\n",
       "      <td>Pinot Noir</td>\n",
       "      <td>Ponzi</td>\n",
       "    </tr>\n",
       "    <tr>\n",
       "      <td>4</td>\n",
       "      <td>France</td>\n",
       "      <td>La Brûlade</td>\n",
       "      <td>A</td>\n",
       "      <td>66.0</td>\n",
       "      <td>Provence</td>\n",
       "      <td>Bandol</td>\n",
       "      <td>NaN</td>\n",
       "      <td>Provence red blend</td>\n",
       "      <td>Domaine de la Bégude</td>\n",
       "    </tr>\n",
       "    <tr>\n",
       "      <td>5</td>\n",
       "      <td>Spain</td>\n",
       "      <td>Numanthia</td>\n",
       "      <td>A</td>\n",
       "      <td>73.0</td>\n",
       "      <td>Northern Spain</td>\n",
       "      <td>Toro</td>\n",
       "      <td>NaN</td>\n",
       "      <td>Tinta de Toro</td>\n",
       "      <td>Numanthia</td>\n",
       "    </tr>\n",
       "    <tr>\n",
       "      <td>6</td>\n",
       "      <td>Spain</td>\n",
       "      <td>San Román</td>\n",
       "      <td>A</td>\n",
       "      <td>65.0</td>\n",
       "      <td>Northern Spain</td>\n",
       "      <td>Toro</td>\n",
       "      <td>NaN</td>\n",
       "      <td>Tinta de Toro</td>\n",
       "      <td>Maurodos</td>\n",
       "    </tr>\n",
       "    <tr>\n",
       "      <td>7</td>\n",
       "      <td>Spain</td>\n",
       "      <td>Carodorum Único Crianza</td>\n",
       "      <td>A</td>\n",
       "      <td>110.0</td>\n",
       "      <td>Northern Spain</td>\n",
       "      <td>Toro</td>\n",
       "      <td>NaN</td>\n",
       "      <td>Tinta de Toro</td>\n",
       "      <td>Bodega Carmen Rodríguez</td>\n",
       "    </tr>\n",
       "    <tr>\n",
       "      <td>8</td>\n",
       "      <td>US</td>\n",
       "      <td>Silice</td>\n",
       "      <td>A</td>\n",
       "      <td>65.0</td>\n",
       "      <td>Oregon</td>\n",
       "      <td>Chehalem Mountains</td>\n",
       "      <td>Willamette Valley</td>\n",
       "      <td>Pinot Noir</td>\n",
       "      <td>Bergström</td>\n",
       "    </tr>\n",
       "    <tr>\n",
       "      <td>9</td>\n",
       "      <td>US</td>\n",
       "      <td>Gap's Crown Vineyard</td>\n",
       "      <td>A</td>\n",
       "      <td>60.0</td>\n",
       "      <td>California</td>\n",
       "      <td>Sonoma Coast</td>\n",
       "      <td>Sonoma</td>\n",
       "      <td>Pinot Noir</td>\n",
       "      <td>Blue Farm</td>\n",
       "    </tr>\n",
       "  </tbody>\n",
       "</table>\n",
       "</div>"
      ],
      "text/plain": [
       "  country                           designation points  price        province  \\\n",
       "0      US                     Martha's Vineyard      A  235.0      California   \n",
       "1   Spain  Carodorum Selección Especial Reserva      A  110.0  Northern Spain   \n",
       "2      US         Special Selected Late Harvest      A   90.0      California   \n",
       "3      US                               Reserve      A   65.0          Oregon   \n",
       "4  France                            La Brûlade      A   66.0        Provence   \n",
       "5   Spain                             Numanthia      A   73.0  Northern Spain   \n",
       "6   Spain                             San Román      A   65.0  Northern Spain   \n",
       "7   Spain               Carodorum Único Crianza      A  110.0  Northern Spain   \n",
       "8      US                                Silice      A   65.0          Oregon   \n",
       "9      US                  Gap's Crown Vineyard      A   60.0      California   \n",
       "\n",
       "             region_1           region_2             variety  \\\n",
       "0         Napa Valley               Napa  Cabernet Sauvignon   \n",
       "1                Toro                NaN       Tinta de Toro   \n",
       "2      Knights Valley             Sonoma     Sauvignon Blanc   \n",
       "3   Willamette Valley  Willamette Valley          Pinot Noir   \n",
       "4              Bandol                NaN  Provence red blend   \n",
       "5                Toro                NaN       Tinta de Toro   \n",
       "6                Toro                NaN       Tinta de Toro   \n",
       "7                Toro                NaN       Tinta de Toro   \n",
       "8  Chehalem Mountains  Willamette Valley          Pinot Noir   \n",
       "9        Sonoma Coast             Sonoma          Pinot Noir   \n",
       "\n",
       "                    winery  \n",
       "0                    Heitz  \n",
       "1  Bodega Carmen Rodríguez  \n",
       "2                 Macauley  \n",
       "3                    Ponzi  \n",
       "4     Domaine de la Bégude  \n",
       "5                Numanthia  \n",
       "6                 Maurodos  \n",
       "7  Bodega Carmen Rodríguez  \n",
       "8                Bergström  \n",
       "9                Blue Farm  "
      ]
     },
     "execution_count": 32,
     "metadata": {},
     "output_type": "execute_result"
    }
   ],
   "source": [
    "data['points']=data['points'].map(pointMap)\n",
    "data.head(10)"
   ]
  },
  {
   "cell_type": "markdown",
   "metadata": {},
   "source": [
    "### price"
   ]
  },
  {
   "cell_type": "code",
   "execution_count": 24,
   "metadata": {},
   "outputs": [
    {
     "name": "stdout",
     "output_type": "stream",
     "text": [
      "price在0-200之间的比例为 0.9062411063444045\n"
     ]
    }
   ],
   "source": [
    "print('price在0-200之间的比例为',(data.price<200).sum()/data.shape[0])"
   ]
  },
  {
   "cell_type": "markdown",
   "metadata": {},
   "source": [
    "price主要集中在0-200之间，绘制图像进行更详细的分析"
   ]
  },
  {
   "cell_type": "code",
   "execution_count": 25,
   "metadata": {},
   "outputs": [
    {
     "data": {
      "text/plain": [
       "<matplotlib.axes._subplots.AxesSubplot at 0x19ea47e5388>"
      ]
     },
     "execution_count": 25,
     "metadata": {},
     "output_type": "execute_result"
    },
    {
     "data": {
      "image/png": "[encoded data removed]",
      "text/plain": [
       "<Figure size 432x288 with 1 Axes>"
      ]
     },
     "metadata": {
      "needs_background": "light"
     },
     "output_type": "display_data"
    }
   ],
   "source": [
    "data.loc[data.price<200,'price'].hist()"
   ]
  },
  {
   "cell_type": "markdown",
   "metadata": {},
   "source": [
    "由图像可以看出，0-25频数最大，随着价格增加频数递减，故可以将price划分成以下几个部分：\n",
    "- 0-25： e\n",
    "- 25-60： d\n",
    "- 60-100： c\n",
    "- 100-200： b\n",
    "- 200以上： a"
   ]
  },
  {
   "cell_type": "code",
   "execution_count": 28,
   "metadata": {},
   "outputs": [],
   "source": [
    "def priceMap(x):\n",
    "    if x>=200:\n",
    "        return 'a'\n",
    "    elif x>=100:\n",
    "        return 'b'\n",
    "    elif x>=60:\n",
    "        return 'c'\n",
    "    elif x>=25:\n",
    "        return 'd'\n",
    "    else:\n",
    "        return 'e'"
   ]
  },
  {
   "cell_type": "code",
   "execution_count": 33,
   "metadata": {},
   "outputs": [
    {
     "data": {
      "text/html": [
       "<div>\n",
       "<style scoped>\n",
       "    .dataframe tbody tr th:only-of-type {\n",
       "        vertical-align: middle;\n",
       "    }\n",
       "\n",
       "    .dataframe tbody tr th {\n",
       "        vertical-align: top;\n",
       "    }\n",
       "\n",
       "    .dataframe thead th {\n",
       "        text-align: right;\n",
       "    }\n",
       "</style>\n",
       "<table border=\"1\" class=\"dataframe\">\n",
       "  <thead>\n",
       "    <tr style=\"text-align: right;\">\n",
       "      <th></th>\n",
       "      <th>country</th>\n",
       "      <th>designation</th>\n",
       "      <th>points</th>\n",
       "      <th>price</th>\n",
       "      <th>province</th>\n",
       "      <th>region_1</th>\n",
       "      <th>region_2</th>\n",
       "      <th>variety</th>\n",
       "      <th>winery</th>\n",
       "    </tr>\n",
       "  </thead>\n",
       "  <tbody>\n",
       "    <tr>\n",
       "      <td>0</td>\n",
       "      <td>US</td>\n",
       "      <td>Martha's Vineyard</td>\n",
       "      <td>A</td>\n",
       "      <td>a</td>\n",
       "      <td>California</td>\n",
       "      <td>Napa Valley</td>\n",
       "      <td>Napa</td>\n",
       "      <td>Cabernet Sauvignon</td>\n",
       "      <td>Heitz</td>\n",
       "    </tr>\n",
       "    <tr>\n",
       "      <td>1</td>\n",
       "      <td>Spain</td>\n",
       "      <td>Carodorum Selección Especial Reserva</td>\n",
       "      <td>A</td>\n",
       "      <td>b</td>\n",
       "      <td>Northern Spain</td>\n",
       "      <td>Toro</td>\n",
       "      <td>NaN</td>\n",
       "      <td>Tinta de Toro</td>\n",
       "      <td>Bodega Carmen Rodríguez</td>\n",
       "    </tr>\n",
       "    <tr>\n",
       "      <td>2</td>\n",
       "      <td>US</td>\n",
       "      <td>Special Selected Late Harvest</td>\n",
       "      <td>A</td>\n",
       "      <td>c</td>\n",
       "      <td>California</td>\n",
       "      <td>Knights Valley</td>\n",
       "      <td>Sonoma</td>\n",
       "      <td>Sauvignon Blanc</td>\n",
       "      <td>Macauley</td>\n",
       "    </tr>\n",
       "    <tr>\n",
       "      <td>3</td>\n",
       "      <td>US</td>\n",
       "      <td>Reserve</td>\n",
       "      <td>A</td>\n",
       "      <td>c</td>\n",
       "      <td>Oregon</td>\n",
       "      <td>Willamette Valley</td>\n",
       "      <td>Willamette Valley</td>\n",
       "      <td>Pinot Noir</td>\n",
       "      <td>Ponzi</td>\n",
       "    </tr>\n",
       "    <tr>\n",
       "      <td>4</td>\n",
       "      <td>France</td>\n",
       "      <td>La Brûlade</td>\n",
       "      <td>A</td>\n",
       "      <td>c</td>\n",
       "      <td>Provence</td>\n",
       "      <td>Bandol</td>\n",
       "      <td>NaN</td>\n",
       "      <td>Provence red blend</td>\n",
       "      <td>Domaine de la Bégude</td>\n",
       "    </tr>\n",
       "    <tr>\n",
       "      <td>5</td>\n",
       "      <td>Spain</td>\n",
       "      <td>Numanthia</td>\n",
       "      <td>A</td>\n",
       "      <td>c</td>\n",
       "      <td>Northern Spain</td>\n",
       "      <td>Toro</td>\n",
       "      <td>NaN</td>\n",
       "      <td>Tinta de Toro</td>\n",
       "      <td>Numanthia</td>\n",
       "    </tr>\n",
       "    <tr>\n",
       "      <td>6</td>\n",
       "      <td>Spain</td>\n",
       "      <td>San Román</td>\n",
       "      <td>A</td>\n",
       "      <td>c</td>\n",
       "      <td>Northern Spain</td>\n",
       "      <td>Toro</td>\n",
       "      <td>NaN</td>\n",
       "      <td>Tinta de Toro</td>\n",
       "      <td>Maurodos</td>\n",
       "    </tr>\n",
       "    <tr>\n",
       "      <td>7</td>\n",
       "      <td>Spain</td>\n",
       "      <td>Carodorum Único Crianza</td>\n",
       "      <td>A</td>\n",
       "      <td>b</td>\n",
       "      <td>Northern Spain</td>\n",
       "      <td>Toro</td>\n",
       "      <td>NaN</td>\n",
       "      <td>Tinta de Toro</td>\n",
       "      <td>Bodega Carmen Rodríguez</td>\n",
       "    </tr>\n",
       "    <tr>\n",
       "      <td>8</td>\n",
       "      <td>US</td>\n",
       "      <td>Silice</td>\n",
       "      <td>A</td>\n",
       "      <td>c</td>\n",
       "      <td>Oregon</td>\n",
       "      <td>Chehalem Mountains</td>\n",
       "      <td>Willamette Valley</td>\n",
       "      <td>Pinot Noir</td>\n",
       "      <td>Bergström</td>\n",
       "    </tr>\n",
       "    <tr>\n",
       "      <td>9</td>\n",
       "      <td>US</td>\n",
       "      <td>Gap's Crown Vineyard</td>\n",
       "      <td>A</td>\n",
       "      <td>c</td>\n",
       "      <td>California</td>\n",
       "      <td>Sonoma Coast</td>\n",
       "      <td>Sonoma</td>\n",
       "      <td>Pinot Noir</td>\n",
       "      <td>Blue Farm</td>\n",
       "    </tr>\n",
       "  </tbody>\n",
       "</table>\n",
       "</div>"
      ],
      "text/plain": [
       "  country                           designation points price        province  \\\n",
       "0      US                     Martha's Vineyard      A     a      California   \n",
       "1   Spain  Carodorum Selección Especial Reserva      A     b  Northern Spain   \n",
       "2      US         Special Selected Late Harvest      A     c      California   \n",
       "3      US                               Reserve      A     c          Oregon   \n",
       "4  France                            La Brûlade      A     c        Provence   \n",
       "5   Spain                             Numanthia      A     c  Northern Spain   \n",
       "6   Spain                             San Román      A     c  Northern Spain   \n",
       "7   Spain               Carodorum Único Crianza      A     b  Northern Spain   \n",
       "8      US                                Silice      A     c          Oregon   \n",
       "9      US                  Gap's Crown Vineyard      A     c      California   \n",
       "\n",
       "             region_1           region_2             variety  \\\n",
       "0         Napa Valley               Napa  Cabernet Sauvignon   \n",
       "1                Toro                NaN       Tinta de Toro   \n",
       "2      Knights Valley             Sonoma     Sauvignon Blanc   \n",
       "3   Willamette Valley  Willamette Valley          Pinot Noir   \n",
       "4              Bandol                NaN  Provence red blend   \n",
       "5                Toro                NaN       Tinta de Toro   \n",
       "6                Toro                NaN       Tinta de Toro   \n",
       "7                Toro                NaN       Tinta de Toro   \n",
       "8  Chehalem Mountains  Willamette Valley          Pinot Noir   \n",
       "9        Sonoma Coast             Sonoma          Pinot Noir   \n",
       "\n",
       "                    winery  \n",
       "0                    Heitz  \n",
       "1  Bodega Carmen Rodríguez  \n",
       "2                 Macauley  \n",
       "3                    Ponzi  \n",
       "4     Domaine de la Bégude  \n",
       "5                Numanthia  \n",
       "6                 Maurodos  \n",
       "7  Bodega Carmen Rodríguez  \n",
       "8                Bergström  \n",
       "9                Blue Farm  "
      ]
     },
     "execution_count": 33,
     "metadata": {},
     "output_type": "execute_result"
    }
   ],
   "source": [
    "data['price']=data['price'].map(priceMap)\n",
    "data.head(10)"
   ]
  },
  {
   "cell_type": "code",
   "execution_count": 42,
   "metadata": {},
   "outputs": [
    {
     "data": {
      "text/html": [
       "<div>\n",
       "<style scoped>\n",
       "    .dataframe tbody tr th:only-of-type {\n",
       "        vertical-align: middle;\n",
       "    }\n",
       "\n",
       "    .dataframe tbody tr th {\n",
       "        vertical-align: top;\n",
       "    }\n",
       "\n",
       "    .dataframe thead th {\n",
       "        text-align: right;\n",
       "    }\n",
       "</style>\n",
       "<table border=\"1\" class=\"dataframe\">\n",
       "  <thead>\n",
       "    <tr style=\"text-align: right;\">\n",
       "      <th></th>\n",
       "      <th>country</th>\n",
       "      <th>designation</th>\n",
       "      <th>points</th>\n",
       "      <th>price</th>\n",
       "      <th>province</th>\n",
       "      <th>region_1</th>\n",
       "      <th>region_2</th>\n",
       "      <th>variety</th>\n",
       "      <th>winery</th>\n",
       "    </tr>\n",
       "  </thead>\n",
       "  <tbody>\n",
       "    <tr>\n",
       "      <td>0</td>\n",
       "      <td>US</td>\n",
       "      <td>Martha's Vineyard</td>\n",
       "      <td>A</td>\n",
       "      <td>a</td>\n",
       "      <td>California</td>\n",
       "      <td>Napa Valley</td>\n",
       "      <td>Napa</td>\n",
       "      <td>Cabernet Sauvignon</td>\n",
       "      <td>Heitz</td>\n",
       "    </tr>\n",
       "    <tr>\n",
       "      <td>1</td>\n",
       "      <td>Spain</td>\n",
       "      <td>Carodorum Selección Especial Reserva</td>\n",
       "      <td>A</td>\n",
       "      <td>b</td>\n",
       "      <td>Northern Spain</td>\n",
       "      <td>Toro</td>\n",
       "      <td>NaN</td>\n",
       "      <td>Tinta de Toro</td>\n",
       "      <td>Bodega Carmen Rodríguez</td>\n",
       "    </tr>\n",
       "    <tr>\n",
       "      <td>2</td>\n",
       "      <td>US</td>\n",
       "      <td>Special Selected Late Harvest</td>\n",
       "      <td>A</td>\n",
       "      <td>c</td>\n",
       "      <td>California</td>\n",
       "      <td>Knights Valley</td>\n",
       "      <td>Sonoma</td>\n",
       "      <td>Sauvignon Blanc</td>\n",
       "      <td>Macauley</td>\n",
       "    </tr>\n",
       "    <tr>\n",
       "      <td>3</td>\n",
       "      <td>US</td>\n",
       "      <td>Reserve</td>\n",
       "      <td>A</td>\n",
       "      <td>c</td>\n",
       "      <td>Oregon</td>\n",
       "      <td>Willamette Valley</td>\n",
       "      <td>Willamette Valley</td>\n",
       "      <td>Pinot Noir</td>\n",
       "      <td>Ponzi</td>\n",
       "    </tr>\n",
       "    <tr>\n",
       "      <td>4</td>\n",
       "      <td>France</td>\n",
       "      <td>La Brûlade</td>\n",
       "      <td>A</td>\n",
       "      <td>c</td>\n",
       "      <td>Provence</td>\n",
       "      <td>Bandol</td>\n",
       "      <td>NaN</td>\n",
       "      <td>Provence red blend</td>\n",
       "      <td>Domaine de la Bégude</td>\n",
       "    </tr>\n",
       "    <tr>\n",
       "      <td>...</td>\n",
       "      <td>...</td>\n",
       "      <td>...</td>\n",
       "      <td>...</td>\n",
       "      <td>...</td>\n",
       "      <td>...</td>\n",
       "      <td>...</td>\n",
       "      <td>...</td>\n",
       "      <td>...</td>\n",
       "      <td>...</td>\n",
       "    </tr>\n",
       "    <tr>\n",
       "      <td>149635</td>\n",
       "      <td>US</td>\n",
       "      <td>Bungalow Red</td>\n",
       "      <td>D</td>\n",
       "      <td>e</td>\n",
       "      <td>California</td>\n",
       "      <td>Santa Barbara County</td>\n",
       "      <td>Central Coast</td>\n",
       "      <td>Syrah-Grenache</td>\n",
       "      <td>Casa Barranca</td>\n",
       "    </tr>\n",
       "    <tr>\n",
       "      <td>149636</td>\n",
       "      <td>Portugal</td>\n",
       "      <td>30-year old tawny</td>\n",
       "      <td>D</td>\n",
       "      <td>e</td>\n",
       "      <td>Port</td>\n",
       "      <td>NaN</td>\n",
       "      <td>NaN</td>\n",
       "      <td>Port</td>\n",
       "      <td>Casa Santa Eufemia</td>\n",
       "    </tr>\n",
       "    <tr>\n",
       "      <td>149637</td>\n",
       "      <td>US</td>\n",
       "      <td>NaN</td>\n",
       "      <td>D</td>\n",
       "      <td>e</td>\n",
       "      <td>California</td>\n",
       "      <td>California</td>\n",
       "      <td>California Other</td>\n",
       "      <td>Merlot</td>\n",
       "      <td>Delicato</td>\n",
       "    </tr>\n",
       "    <tr>\n",
       "      <td>149638</td>\n",
       "      <td>Argentina</td>\n",
       "      <td>NaN</td>\n",
       "      <td>D</td>\n",
       "      <td>e</td>\n",
       "      <td>Mendoza Province</td>\n",
       "      <td>Uco Valley</td>\n",
       "      <td>NaN</td>\n",
       "      <td>Sauvignon Blanc</td>\n",
       "      <td>Finca El Portillo</td>\n",
       "    </tr>\n",
       "    <tr>\n",
       "      <td>149639</td>\n",
       "      <td>Australia</td>\n",
       "      <td>NaN</td>\n",
       "      <td>D</td>\n",
       "      <td>e</td>\n",
       "      <td>Australia Other</td>\n",
       "      <td>South Eastern Australia</td>\n",
       "      <td>NaN</td>\n",
       "      <td>Chardonnay</td>\n",
       "      <td>Jacob's Creek</td>\n",
       "    </tr>\n",
       "  </tbody>\n",
       "</table>\n",
       "<p>94871 rows × 9 columns</p>\n",
       "</div>"
      ],
      "text/plain": [
       "          country                           designation points price  \\\n",
       "0              US                     Martha's Vineyard      A     a   \n",
       "1           Spain  Carodorum Selección Especial Reserva      A     b   \n",
       "2              US         Special Selected Late Harvest      A     c   \n",
       "3              US                               Reserve      A     c   \n",
       "4          France                            La Brûlade      A     c   \n",
       "...           ...                                   ...    ...   ...   \n",
       "149635         US                          Bungalow Red      D     e   \n",
       "149636   Portugal                     30-year old tawny      D     e   \n",
       "149637         US                                   NaN      D     e   \n",
       "149638  Argentina                                   NaN      D     e   \n",
       "149639  Australia                                   NaN      D     e   \n",
       "\n",
       "                province                 region_1           region_2  \\\n",
       "0             California              Napa Valley               Napa   \n",
       "1         Northern Spain                     Toro                NaN   \n",
       "2             California           Knights Valley             Sonoma   \n",
       "3                 Oregon        Willamette Valley  Willamette Valley   \n",
       "4               Provence                   Bandol                NaN   \n",
       "...                  ...                      ...                ...   \n",
       "149635        California     Santa Barbara County      Central Coast   \n",
       "149636              Port                      NaN                NaN   \n",
       "149637        California               California   California Other   \n",
       "149638  Mendoza Province               Uco Valley                NaN   \n",
       "149639   Australia Other  South Eastern Australia                NaN   \n",
       "\n",
       "                   variety                   winery  \n",
       "0       Cabernet Sauvignon                    Heitz  \n",
       "1            Tinta de Toro  Bodega Carmen Rodríguez  \n",
       "2          Sauvignon Blanc                 Macauley  \n",
       "3               Pinot Noir                    Ponzi  \n",
       "4       Provence red blend     Domaine de la Bégude  \n",
       "...                    ...                      ...  \n",
       "149635      Syrah-Grenache            Casa Barranca  \n",
       "149636                Port       Casa Santa Eufemia  \n",
       "149637              Merlot                 Delicato  \n",
       "149638     Sauvignon Blanc        Finca El Portillo  \n",
       "149639          Chardonnay            Jacob's Creek  \n",
       "\n",
       "[94871 rows x 9 columns]"
      ]
     },
     "execution_count": 42,
     "metadata": {},
     "output_type": "execute_result"
    }
   ],
   "source": [
    "data"
   ]
  },
  {
   "cell_type": "markdown",
   "metadata": {},
   "source": [
    "### 将数据转变成list形式，便于进行规则挖掘"
   ]
  },
  {
   "cell_type": "code",
   "execution_count": 43,
   "metadata": {},
   "outputs": [],
   "source": [
    "newdata=data.values.tolist()"
   ]
  },
  {
   "cell_type": "code",
   "execution_count": 45,
   "metadata": {},
   "outputs": [],
   "source": [
    "temp=[]\n",
    "for d in newdata:\n",
    "    temp.append([v for v in d if isinstance(v,str)])\n",
    "newdata=temp"
   ]
  },
  {
   "cell_type": "markdown",
   "metadata": {},
   "source": [
    "#### 将处理好的数据保存起来"
   ]
  },
  {
   "cell_type": "code",
   "execution_count": 48,
   "metadata": {},
   "outputs": [],
   "source": [
    "import csv\n",
    "with open('data.csv','w',newline='',encoding='utf-8') as f:\n",
    "    writer=csv.writer(f)\n",
    "    for d in newdata:\n",
    "        writer.writerow(d)"
   ]
  },
  {
   "cell_type": "markdown",
   "metadata": {},
   "source": [
    "## 2.利用FP-growth方法挖掘出频繁模式\n",
    "#### FP-growth方法实现于fp_growth_py3.py文件中，该文件见压缩包"
   ]
  },
  {
   "cell_type": "code",
   "execution_count": 49,
   "metadata": {},
   "outputs": [],
   "source": [
    "import fp_growth_py3 as fpg"
   ]
  },
  {
   "cell_type": "markdown",
   "metadata": {},
   "source": [
    "设置最小支持度minimum_support\n",
    "\n",
    "通过调用find_frequent_itemsets函数生成频繁项,函数参数include_support为True时表示返回结果中包含itemset和support\n",
    "\n"
   ]
  },
  {
   "cell_type": "code",
   "execution_count": 58,
   "metadata": {},
   "outputs": [
    {
     "name": "stdout",
     "output_type": "stream",
     "text": [
      "频繁项集 绝对支持度 相对支持度\n",
      "['B']\t29243\t0.3082\n",
      "['C']\t49441\t0.5211\n",
      "['C', 'California']\t13663\t0.144\n",
      "['C', 'US']\t18813\t0.1983\n",
      "['C', 'US', 'California']\t13663\t0.144\n",
      "['C', 'd']\t15802\t0.1666\n",
      "['California']\t30031\t0.3165\n",
      "['D']\t14365\t0.1514\n",
      "['France']\t14041\t0.148\n",
      "['Italy']\t14413\t0.1519\n",
      "['US']\t39168\t0.4129\n",
      "['US', 'B']\t12565\t0.1324\n",
      "['US', 'California']\t30031\t0.3165\n",
      "['US', 'd']\t19509\t0.2056\n",
      "['US', 'd', 'California']\t14290\t0.1506\n",
      "['d']\t33700\t0.3552\n",
      "['d', 'B']\t14797\t0.156\n",
      "['d', 'California']\t14290\t0.1506\n",
      "['e']\t51115\t0.5388\n",
      "['e', 'C']\t31581\t0.3329\n",
      "['e', 'California']\t12217\t0.1288\n",
      "['e', 'D']\t11409\t0.1203\n",
      "['e', 'US']\t15514\t0.1635\n",
      "['e', 'US', 'California']\t12217\t0.1288\n"
     ]
    }
   ],
   "source": [
    "support = 0.1 # 相对支持度\n",
    "minimum_support = support*len(newdata) # 绝对支持度\n",
    "\n",
    "frequent_itemsets = fpg.find_frequent_itemsets(newdata, minimum_support=minimum_support, include_support=True)\n",
    "\n",
    "freq0 = []\n",
    "for itemset, support in frequent_itemsets:    # 将generator结果存入list\n",
    "    freq0.append((itemset, support))\n",
    "\n",
    "freq0 = sorted(freq0, key=lambda i: i[0])   # 排序后输出\n",
    "print('频繁项集', '绝对支持度', '相对支持度')\n",
    "for itemset, support in freq0:\n",
    "    print(str(itemset) + '\\t' + str(support) + '\\t' + str(round(support/len(newdata), 4)))"
   ]
  },
  {
   "cell_type": "markdown",
   "metadata": {},
   "source": [
    "## 3.利用频繁项集生成关联规则"
   ]
  },
  {
   "cell_type": "code",
   "execution_count": 55,
   "metadata": {},
   "outputs": [],
   "source": [
    "result=freq0"
   ]
  },
  {
   "cell_type": "code",
   "execution_count": 63,
   "metadata": {},
   "outputs": [
    {
     "name": "stdout",
     "output_type": "stream",
     "text": [
      "规则左项 ==> 规则右项 规则支持度 规则置信度\n",
      "('California',)=>('C',)\t0.144\t0.455\n",
      "('C',)=>('California',)\t0.144\t0.2763\n",
      "('US',)=>('C',)\t0.1983\t0.4803\n",
      "('C',)=>('US',)\t0.1983\t0.3805\n",
      "('California',)=>('C', 'US')\t0.144\t0.455\n",
      "('US',)=>('C', 'California')\t0.144\t0.3488\n",
      "('US', 'California')=>('C',)\t0.144\t0.455\n",
      "('C',)=>('US', 'California')\t0.144\t0.2763\n",
      "('C', 'California')=>('US',)\t0.144\t1.0\n",
      "('C', 'US')=>('California',)\t0.144\t0.7263\n",
      "('d',)=>('C',)\t0.1666\t0.4689\n",
      "('C',)=>('d',)\t0.1666\t0.3196\n",
      "('B',)=>('US',)\t0.1324\t0.4297\n",
      "('US',)=>('B',)\t0.1324\t0.3208\n",
      "('California',)=>('US',)\t0.3165\t1.0\n",
      "('US',)=>('California',)\t0.3165\t0.7667\n",
      "('d',)=>('US',)\t0.2056\t0.5789\n",
      "('US',)=>('d',)\t0.2056\t0.4981\n",
      "('California',)=>('US', 'd')\t0.1506\t0.4758\n",
      "('d',)=>('US', 'California')\t0.1506\t0.424\n",
      "('d', 'California')=>('US',)\t0.1506\t1.0\n",
      "('US',)=>('d', 'California')\t0.1506\t0.3648\n",
      "('US', 'California')=>('d',)\t0.1506\t0.4758\n",
      "('US', 'd')=>('California',)\t0.1506\t0.7325\n",
      "('B',)=>('d',)\t0.156\t0.506\n",
      "('d',)=>('B',)\t0.156\t0.4391\n",
      "('California',)=>('d',)\t0.1506\t0.4758\n",
      "('d',)=>('California',)\t0.1506\t0.424\n",
      "('C',)=>('e',)\t0.3329\t0.6388\n",
      "('e',)=>('C',)\t0.3329\t0.6178\n",
      "('California',)=>('e',)\t0.1288\t0.4068\n",
      "('e',)=>('California',)\t0.1288\t0.239\n",
      "('D',)=>('e',)\t0.1203\t0.7942\n",
      "('e',)=>('D',)\t0.1203\t0.2232\n",
      "('US',)=>('e',)\t0.1635\t0.3961\n",
      "('e',)=>('US',)\t0.1635\t0.3035\n",
      "('California',)=>('e', 'US')\t0.1288\t0.4068\n",
      "('US',)=>('e', 'California')\t0.1288\t0.3119\n",
      "('US', 'California')=>('e',)\t0.1288\t0.4068\n",
      "('e',)=>('US', 'California')\t0.1288\t0.239\n",
      "('e', 'California')=>('US',)\t0.1288\t1.0\n",
      "('e', 'US')=>('California',)\t0.1288\t0.7875\n"
     ]
    }
   ],
   "source": [
    "# 深度优先\n",
    "def dfs(nums, i, x, supports, rules):\n",
    "    if i==len(nums):\n",
    "        # 规则左项\n",
    "        left = tuple([x[j] for j in range(len(x)) if nums[j]==1])\n",
    "        # 规则右项\n",
    "        right = tuple([x[j] for j in range(len(x)) if nums[j]==0])\n",
    "        \n",
    "        # 选择大于置信度阈值的规则\n",
    "        if len(left) > 0 and len(right) > 0 and (left in supports):\n",
    "            conf = 1.0*supports[x]/supports[left]\n",
    "            if conf > 0.2:\n",
    "                rules.append((left, right, supports[x], conf))\n",
    "        return\n",
    "    \n",
    "    for v in [0, 1]:\n",
    "        nums[i] = v\n",
    "        dfs(nums, i+1, x, supports, rules)\n",
    "\n",
    "items = [tuple(result[i][0]) for i in range(len(result))]\n",
    "supports = {tuple(result[i][0]):1.0*result[i][1]/len(newdata) for i in range(len(result))}\n",
    "\n",
    "# 由频繁项集生成关联规则\n",
    "rules0 = []\n",
    "# 深度优先遍历项集的子集，生成左项和右项\n",
    "for item in items:\n",
    "    dfs([0]*len(item), 0, item, supports, rules0)\n",
    "    \n",
    "print('规则左项', '==>', '规则右项', '规则支持度', '规则置信度')\n",
    "for left, right, spt, conf in rules0:\n",
    "    print(str(left)+'=>'+str(right)+'\\t'+str(round(spt, 4))+'\\t'+str(round(conf, 4)))"
   ]
  },
  {
   "cell_type": "markdown",
   "metadata": {},
   "source": [
    "## 4.对规则进行评价\n",
    "### 4.1使用lift指标评估规则"
   ]
  },
  {
   "cell_type": "code",
   "execution_count": 67,
   "metadata": {},
   "outputs": [],
   "source": [
    "def lift(rule,support):\n",
    "    rules=[]\n",
    "    for left, right, spt, conf in rule:\n",
    "        rules.append((left,right,spt,conf,conf/support[right]))\n",
    "    return rules\n",
    "lifts=lift(rules0,supports)"
   ]
  },
  {
   "cell_type": "code",
   "execution_count": 73,
   "metadata": {},
   "outputs": [
    {
     "name": "stdout",
     "output_type": "stream",
     "text": [
      "关联规则共 42 条\n",
      "依据置信度排序如下：\n",
      "规则左项 ==> 规则右项 Lift\n",
      "('California',) ==> ('C',) 0.873\n",
      "('C',) ==> ('California',) 0.873\n",
      "('US',) ==> ('C',) 0.9217\n",
      "('C',) ==> ('US',) 0.9217\n",
      "('California',) ==> ('C', 'US') 2.2943\n",
      "('US',) ==> ('C', 'California') 2.4222\n",
      "('US', 'California') ==> ('C',) 0.873\n",
      "('C',) ==> ('US', 'California') 0.873\n",
      "('C', 'California') ==> ('US',) 2.4222\n",
      "('C', 'US') ==> ('California',) 2.2943\n",
      "('d',) ==> ('C',) 0.8998\n",
      "('C',) ==> ('d',) 0.8998\n",
      "('B',) ==> ('US',) 1.0407\n",
      "('US',) ==> ('B',) 1.0407\n",
      "('California',) ==> ('US',) 2.4222\n",
      "('US',) ==> ('California',) 2.4222\n",
      "('d',) ==> ('US',) 1.4022\n",
      "('US',) ==> ('d',) 1.4022\n",
      "('California',) ==> ('US', 'd') 2.314\n",
      "('d',) ==> ('US', 'California') 1.3396\n",
      "('d', 'California') ==> ('US',) 2.4222\n",
      "('US',) ==> ('d', 'California') 2.4222\n",
      "('US', 'California') ==> ('d',) 1.3396\n",
      "('US', 'd') ==> ('California',) 2.314\n",
      "('B',) ==> ('d',) 1.4245\n",
      "('d',) ==> ('B',) 1.4245\n",
      "('California',) ==> ('d',) 1.3396\n",
      "('d',) ==> ('California',) 1.3396\n",
      "('C',) ==> ('e',) 1.1856\n",
      "('e',) ==> ('C',) 1.1856\n",
      "('California',) ==> ('e',) 0.7551\n",
      "('e',) ==> ('California',) 0.7551\n",
      "('D',) ==> ('e',) 1.4741\n",
      "('e',) ==> ('D',) 1.4741\n",
      "('US',) ==> ('e',) 0.7352\n",
      "('e',) ==> ('US',) 0.7352\n",
      "('California',) ==> ('e', 'US') 2.4877\n",
      "('US',) ==> ('e', 'California') 2.4222\n",
      "('US', 'California') ==> ('e',) 0.7551\n",
      "('e',) ==> ('US', 'California') 0.7551\n",
      "('e', 'California') ==> ('US',) 2.4222\n",
      "('e', 'US') ==> ('California',) 2.4877\n"
     ]
    }
   ],
   "source": [
    "print('关联规则共 {} 条'.format(len(lifts)))\n",
    "print('依据置信度排序如下：')\n",
    "print('规则左项', '==>', '规则右项','Lift')\n",
    "for left, right, spt, conf, lift in lifts:\n",
    "    print(left, '==>', right,  round(lift, 4))"
   ]
  },
  {
   "cell_type": "markdown",
   "metadata": {},
   "source": [
    "### 4.2使用Jaccard评估规则"
   ]
  },
  {
   "cell_type": "code",
   "execution_count": 89,
   "metadata": {},
   "outputs": [],
   "source": [
    "def Jaccard(rule,support):\n",
    "    rules=[]\n",
    "    for left, right, spt, conf in rule:\n",
    "        rules.append((left,right,spt,conf,conf*support[left]/(support[left]+support[right]-conf*support[left])))\n",
    "    return rules\n",
    "jc=Jaccard(rules0,supports)"
   ]
  },
  {
   "cell_type": "code",
   "execution_count": 90,
   "metadata": {},
   "outputs": [
    {
     "name": "stdout",
     "output_type": "stream",
     "text": [
      "关联规则共 42 条\n",
      "依据置信度排序如下：\n",
      "规则左项 ==> 规则右项 Jaccard\n",
      "('California',) ==> ('C',) 0.2076\n",
      "('C',) ==> ('California',) 0.2076\n",
      "('US',) ==> ('C',) 0.2695\n",
      "('C',) ==> ('US',) 0.2695\n",
      "('California',) ==> ('C', 'US') 0.3884\n",
      "('US',) ==> ('C', 'California') 0.3488\n",
      "('US', 'California') ==> ('C',) 0.2076\n",
      "('C',) ==> ('US', 'California') 0.2076\n",
      "('C', 'California') ==> ('US',) 0.3488\n",
      "('C', 'US') ==> ('California',) 0.3884\n",
      "('d',) ==> ('C',) 0.2347\n",
      "('C',) ==> ('d',) 0.2347\n",
      "('B',) ==> ('US',) 0.225\n",
      "('US',) ==> ('B',) 0.225\n",
      "('California',) ==> ('US',) 0.7667\n",
      "('US',) ==> ('California',) 0.7667\n",
      "('d',) ==> ('US',) 0.3656\n",
      "('US',) ==> ('d',) 0.3656\n",
      "('California',) ==> ('US', 'd') 0.4054\n",
      "('d',) ==> ('US', 'California') 0.289\n",
      "('d', 'California') ==> ('US',) 0.3648\n",
      "('US',) ==> ('d', 'California') 0.3648\n",
      "('US', 'California') ==> ('d',) 0.289\n",
      "('US', 'd') ==> ('California',) 0.4054\n",
      "('B',) ==> ('d',) 0.3073\n",
      "('d',) ==> ('B',) 0.3073\n",
      "('California',) ==> ('d',) 0.289\n",
      "('d',) ==> ('California',) 0.289\n",
      "('C',) ==> ('e',) 0.4579\n",
      "('e',) ==> ('C',) 0.4579\n",
      "('California',) ==> ('e',) 0.1772\n",
      "('e',) ==> ('California',) 0.1772\n",
      "('D',) ==> ('e',) 0.211\n",
      "('e',) ==> ('D',) 0.211\n",
      "('US',) ==> ('e',) 0.2075\n",
      "('e',) ==> ('US',) 0.2075\n",
      "('California',) ==> ('e', 'US') 0.3666\n",
      "('US',) ==> ('e', 'California') 0.3119\n",
      "('US', 'California') ==> ('e',) 0.1772\n",
      "('e',) ==> ('US', 'California') 0.1772\n",
      "('e', 'California') ==> ('US',) 0.3119\n",
      "('e', 'US') ==> ('California',) 0.3666\n"
     ]
    }
   ],
   "source": [
    "print('关联规则共 {} 条'.format(len(jc)))\n",
    "print('依据置信度排序如下：')\n",
    "print('规则左项', '==>', '规则右项','Jaccard')\n",
    "for left, right, spt, conf, Jaccard in jc:\n",
    "    print(left, '==>', right,  round(Jaccard, 4))"
   ]
  },
  {
   "cell_type": "markdown",
   "metadata": {},
   "source": [
    "## 5.挖掘结果分析与可视化"
   ]
  },
  {
   "cell_type": "code",
   "execution_count": 109,
   "metadata": {},
   "outputs": [],
   "source": [
    "import matplotlib.pyplot as plt\n",
    "plt.rcParams['font.sans-serif'] = ['KaiTi']\n",
    "plt.rcParams['font.serif'] = ['KaiTi']"
   ]
  },
  {
   "cell_type": "markdown",
   "metadata": {},
   "source": [
    "### 通过Lift进行评估，在42条关联规则中有28条是正相关，14条是负相关。"
   ]
  },
  {
   "cell_type": "code",
   "execution_count": 94,
   "metadata": {},
   "outputs": [
    {
     "name": "stdout",
     "output_type": "stream",
     "text": [
      "28 14 0\n"
     ]
    }
   ],
   "source": [
    "pc=0\n",
    "nc=0\n",
    "id=0\n",
    "for left, right, spt, conf, lift in lifts:\n",
    "    if lift>1:\n",
    "        pc=pc+1\n",
    "    elif lift<1:\n",
    "        nc=nc+1\n",
    "    else:\n",
    "        id=id+1\n",
    "print(pc,nc,id)"
   ]
  },
  {
   "cell_type": "markdown",
   "metadata": {},
   "source": [
    "### 绘制Jaccard评估结果的直方图，可以看出推导出的关联规则大部分关联度较低，只有少量规则关联度较高"
   ]
  },
  {
   "cell_type": "code",
   "execution_count": 99,
   "metadata": {},
   "outputs": [
    {
     "data": {
      "text/plain": [
       "(array([16.,  6.,  6., 10.,  2.,  0.,  0.,  0.,  0.,  2.]),\n",
       " array([0.17724035, 0.2361886 , 0.29513685, 0.35408509, 0.41303334,\n",
       "        0.47198159, 0.53092984, 0.58987809, 0.64882634, 0.70777459,\n",
       "        0.76672283]),\n",
       " <a list of 10 Patch objects>)"
      ]
     },
     "execution_count": 99,
     "metadata": {},
     "output_type": "execute_result"
    },
    {
     "data": {
      "image/png": "[encoded data removed]",
      "text/plain": [
       "<Figure size 432x288 with 1 Axes>"
      ]
     },
     "metadata": {
      "needs_background": "light"
     },
     "output_type": "display_data"
    }
   ],
   "source": [
    "jcResult=[]\n",
    "for left, right, spt, conf, Jaccard in jc:\n",
    "    jcResult.append(Jaccard)\n",
    "plt.hist(jcResult)"
   ]
  },
  {
   "cell_type": "markdown",
   "metadata": {},
   "source": [
    "### 对获取的频繁项集的支持度绘制图像"
   ]
  },
  {
   "cell_type": "code",
   "execution_count": 100,
   "metadata": {},
   "outputs": [],
   "source": [
    "x=[]\n",
    "y=[]\n",
    "for itemset, support in freq0:\n",
    "    x.append(support)\n",
    "    y.append(round(support/len(newdata), 4))   "
   ]
  },
  {
   "cell_type": "code",
   "execution_count": 111,
   "metadata": {},
   "outputs": [
    {
     "data": {
      "image/png": "[encoded data removed]",
      "text/plain": [
       "<Figure size 432x288 with 1 Axes>"
      ]
     },
     "metadata": {
      "needs_background": "light"
     },
     "output_type": "display_data"
    }
   ],
   "source": [
    "plt.title(u'频繁项集的支持度散点图')\n",
    "plt.xlabel(u\"绝对支持度\")\n",
    "plt.ylabel(u\"相对支持度\")\n",
    "plt.scatter(x, y)\n",
    "plt.show()"
   ]
  },
  {
   "cell_type": "markdown",
   "metadata": {},
   "source": [
    "### 对生成规则的支持度和置信度进行绘图"
   ]
  },
  {
   "cell_type": "code",
   "execution_count": 112,
   "metadata": {},
   "outputs": [],
   "source": [
    "x=[]\n",
    "y=[]\n",
    "for left, right, spt, conf in rules0:\n",
    "    x.append(spt)\n",
    "    y.append(conf)"
   ]
  },
  {
   "cell_type": "code",
   "execution_count": 113,
   "metadata": {},
   "outputs": [
    {
     "data": {
      "image/png": "[encoded data removed]",
      "text/plain": [
       "<Figure size 432x288 with 1 Axes>"
      ]
     },
     "metadata": {
      "needs_background": "light"
     },
     "output_type": "display_data"
    }
   ],
   "source": [
    "plt.title(u'生成规则的支持度置信度散点图')\n",
    "plt.xlabel(u\"支持度\")\n",
    "plt.ylabel(u\"置信度\")\n",
    "plt.scatter(x, y)\n",
    "plt.show()"
   ]
  }
 ],
 "metadata": {
  "kernelspec": {
   "display_name": "Python 3.7.4 64-bit ('tlow': conda)",
   "language": "python",
   "name": "python37464bittlowconda2b48fdffd7384479b5d88aca5844491f"
  },
  "language_info": {
   "codemirror_mode": {
    "name": "ipython",
    "version": 3
   },
   "file_extension": ".py",
   "mimetype": "text/x-python",
   "name": "python",
   "nbconvert_exporter": "python",
   "pygments_lexer": "ipython3",
   "version": "3.7.4"
  }
 },
 "nbformat": 4,
 "nbformat_minor": 4
}
